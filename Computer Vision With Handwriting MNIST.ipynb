{
 "cells": [
  {
   "cell_type": "code",
   "execution_count": 1,
   "id": "1d66e8d9",
   "metadata": {},
   "outputs": [],
   "source": [
    "import matplotlib.pyplot as plt\n",
    "import tensorflow as tf\n",
    "from tensorflow import keras"
   ]
  },
  {
   "cell_type": "code",
   "execution_count": 2,
   "id": "64beb1cb",
   "metadata": {},
   "outputs": [
    {
     "name": "stdout",
     "output_type": "stream",
     "text": [
      "Downloading data from https://storage.googleapis.com/tensorflow/tf-keras-datasets/mnist.npz\n",
      "11490434/11490434 [==============================] - 219s 19us/step\n"
     ]
    }
   ],
   "source": [
    "(X_train, y_train), (X_test, y_test) = keras.datasets.mnist.load_data()"
   ]
  },
  {
   "cell_type": "code",
   "execution_count": 3,
   "id": "31470f22",
   "metadata": {},
   "outputs": [
    {
     "data": {
      "text/plain": [
       "numpy.ndarray"
      ]
     },
     "execution_count": 3,
     "metadata": {},
     "output_type": "execute_result"
    }
   ],
   "source": [
    "type(X_train)"
   ]
  },
  {
   "cell_type": "code",
   "execution_count": 8,
   "id": "b276fbfc",
   "metadata": {},
   "outputs": [
    {
     "name": "stdout",
     "output_type": "stream",
     "text": [
      "3\n"
     ]
    },
    {
     "data": {
      "image/png": "[encoded data removed]",
      "text/plain": [
       "<Figure size 640x480 with 1 Axes>"
      ]
     },
     "metadata": {},
     "output_type": "display_data"
    }
   ],
   "source": [
    "num = 10\n",
    "\n",
    "plt.imshow(X_train[num])\n",
    "print(y_train[num])"
   ]
  },
  {
   "cell_type": "markdown",
   "id": "e39f88d2",
   "metadata": {},
   "source": [
    "## Model"
   ]
  },
  {
   "cell_type": "code",
   "execution_count": 9,
   "id": "1c958b15",
   "metadata": {},
   "outputs": [],
   "source": [
    "model = keras.Sequential([\n",
    "    keras.layers.Flatten(input_shape = (28,28)),\n",
    "    keras.layers.Dense(units = 64, activation=\"relu\"),\n",
    "    keras.layers.Dense(units = 10, activation=\"softmax\")\n",
    "])\n",
    "\n",
    "model.compile(optimizer=tf.optimizers.Adam(),\n",
    "             loss = \"sparse_categorical_crossentropy\",\n",
    "             metrics=['accuracy'])"
   ]
  },
  {
   "cell_type": "code",
   "execution_count": 13,
   "id": "1fbd2bf8",
   "metadata": {},
   "outputs": [
    {
     "name": "stdout",
     "output_type": "stream",
     "text": [
      "Epoch 1/5\n",
      "1875/1875 [==============================] - 8s 4ms/step - loss: 0.4909 - accuracy: 0.8769\n",
      "Epoch 2/5\n",
      "1875/1875 [==============================] - 7s 4ms/step - loss: 0.3332 - accuracy: 0.9130\n",
      "Epoch 3/5\n",
      "1875/1875 [==============================] - 7s 4ms/step - loss: 0.2797 - accuracy: 0.9261\n",
      "Epoch 4/5\n",
      "1875/1875 [==============================] - 7s 4ms/step - loss: 0.2561 - accuracy: 0.9312\n",
      "Epoch 5/5\n",
      "1875/1875 [==============================] - 7s 4ms/step - loss: 0.2403 - accuracy: 0.9358\n"
     ]
    },
    {
     "data": {
      "text/plain": [
       "<keras.callbacks.History at 0x2c8aecf3670>"
      ]
     },
     "execution_count": 13,
     "metadata": {},
     "output_type": "execute_result"
    }
   ],
   "source": [
    "model.fit(X_train, y_train, epochs = 5)"
   ]
  },
  {
   "cell_type": "markdown",
   "id": "2ad97dc1",
   "metadata": {},
   "source": [
    "### Observation 1\n",
    "\n",
    "\n",
    "- First run: I forgot to set epoch value, therefore, the epoch was as default i.e, 1. __loss__ = 2.1320, __accuracy__ = 0.7610\n",
    "- Second run: __epochs__ = _5_. __loss__ = _0.2403_, __accuracy__ = _0.9358_"
   ]
  },
  {
   "cell_type": "markdown",
   "id": "6ee16b6f",
   "metadata": {},
   "source": [
    "# Normalizing data"
   ]
  },
  {
   "cell_type": "code",
   "execution_count": 22,
   "id": "84c9189c",
   "metadata": {},
   "outputs": [],
   "source": [
    "X_train_norm = X_train/255\n",
    "X_test_norm = X_test/255"
   ]
  },
  {
   "cell_type": "code",
   "execution_count": 15,
   "id": "d81991d3",
   "metadata": {},
   "outputs": [],
   "source": [
    "model_norm = keras.Sequential([\n",
    "    keras.layers.Flatten(input_shape = (28,28)),\n",
    "    keras.layers.Dense(units = 64, activation=\"relu\"),\n",
    "    keras.layers.Dense(units = 10, activation=\"softmax\")\n",
    "])\n",
    "\n",
    "model_norm.compile(optimizer=tf.optimizers.Adam(),\n",
    "             loss = \"sparse_categorical_crossentropy\",\n",
    "             metrics=['accuracy'])"
   ]
  },
  {
   "cell_type": "code",
   "execution_count": 25,
   "id": "fa6d1efb",
   "metadata": {},
   "outputs": [
    {
     "name": "stdout",
     "output_type": "stream",
     "text": [
      "Epoch 1/5\n",
      "1875/1875 [==============================] - 14s 8ms/step - loss: 0.1788 - accuracy: 0.9475\n",
      "Epoch 2/5\n",
      "1875/1875 [==============================] - 17s 9ms/step - loss: 0.1545 - accuracy: 0.9551\n",
      "Epoch 3/5\n",
      "1875/1875 [==============================] - 12s 7ms/step - loss: 0.1398 - accuracy: 0.9582\n",
      "Epoch 4/5\n",
      "1875/1875 [==============================] - 14s 7ms/step - loss: 0.1285 - accuracy: 0.9621\n",
      "Epoch 5/5\n",
      "1875/1875 [==============================] - 14s 7ms/step - loss: 0.1202 - accuracy: 0.9644\n"
     ]
    },
    {
     "data": {
      "text/plain": [
       "<keras.callbacks.History at 0x2c8c973a170>"
      ]
     },
     "execution_count": 25,
     "metadata": {},
     "output_type": "execute_result"
    }
   ],
   "source": [
    "model_norm.fit(X_train_norm, y_train, epochs = 5)"
   ]
  },
  {
   "cell_type": "markdown",
   "id": "a40f3cdd",
   "metadata": {},
   "source": [
    "### Observation 2\n",
    "\n",
    "- First run: I forgot to set epoch value, therefore, the epoch was as default i.e, 1. __loss__ = 0.2151, __accuracy__ = 0.9381\n",
    "- Second run: __epochs__ = _5_. __loss__ = _0.1202_, __accuracy__ = _0.9644_"
   ]
  },
  {
   "cell_type": "code",
   "execution_count": 27,
   "id": "70b7a1c6",
   "metadata": {},
   "outputs": [
    {
     "name": "stdout",
     "output_type": "stream",
     "text": [
      "313/313 [==============================] - 2s 5ms/step - loss: 0.1446 - accuracy: 0.9577\n"
     ]
    },
    {
     "data": {
      "text/plain": [
       "[0.1445647031068802, 0.9577000141143799]"
      ]
     },
     "execution_count": 27,
     "metadata": {},
     "output_type": "execute_result"
    }
   ],
   "source": [
    "model_norm.evaluate(X_test_norm,y_test)"
   ]
  },
  {
   "cell_type": "code",
   "execution_count": 29,
   "id": "a265e4a5",
   "metadata": {},
   "outputs": [
    {
     "name": "stdout",
     "output_type": "stream",
     "text": [
      "313/313 [==============================] - 1s 4ms/step - loss: 0.2809 - accuracy: 0.9359\n"
     ]
    },
    {
     "data": {
      "text/plain": [
       "[0.2808607816696167, 0.9358999729156494]"
      ]
     },
     "execution_count": 29,
     "metadata": {},
     "output_type": "execute_result"
    }
   ],
   "source": [
    "model.evaluate(X_test,y_test)"
   ]
  },
  {
   "cell_type": "markdown",
   "id": "5a0d1a7c",
   "metadata": {},
   "source": [
    "## Observation 3\n",
    "\n",
    "    The model that was trained on a normalised data performed better than the one trained on the original data.\n",
    "   - Normalised data = _loss_: __0.1446__, _accuracy_: __0.9577__ \n",
    "   - Original data = _loss_: __0.2809__, _accuracy_: __0.9359__"
   ]
  },
  {
   "cell_type": "code",
   "execution_count": null,
   "id": "a3ea04dc",
   "metadata": {},
   "outputs": [],
   "source": []
  }
 ],
 "metadata": {
  "kernelspec": {
   "display_name": "Python 3 (ipykernel)",
   "language": "python",
   "name": "python3"
  },
  "language_info": {
   "codemirror_mode": {
    "name": "ipython",
    "version": 3
   },
   "file_extension": ".py",
   "mimetype": "text/x-python",
   "name": "python",
   "nbconvert_exporter": "python",
   "pygments_lexer": "ipython3",
   "version": "3.10.9"
  }
 },
 "nbformat": 4,
 "nbformat_minor": 5
}
